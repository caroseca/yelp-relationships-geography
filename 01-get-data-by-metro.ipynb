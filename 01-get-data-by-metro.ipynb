{
 "cells": [
  {
   "cell_type": "markdown",
   "metadata": {},
   "source": [
    "# Get Data by Metro Area"
   ]
  },
  {
   "cell_type": "markdown",
   "metadata": {},
   "source": [
    "## 1.0. Load Packages"
   ]
  },
  {
   "cell_type": "code",
   "execution_count": 1,
   "metadata": {},
   "outputs": [],
   "source": [
    "# Import packages to use later\n",
    "import pandas as pd\n",
    "import nltk\n",
    "import time\n",
    "import json"
   ]
  },
  {
   "cell_type": "markdown",
   "metadata": {},
   "source": [
    "## 1.1. Investigate Cities\n",
    "### We'll have 2 files that we're working with in this file. 1 is businesses; the second is the reviews from these businesses."
   ]
  },
  {
   "cell_type": "code",
   "execution_count": 2,
   "metadata": {},
   "outputs": [
    {
     "name": "stdout",
     "output_type": "stream",
     "text": [
      "Boston 36019\n",
      "Portland 28301\n",
      "Austin 24487\n",
      "Orlando 21912\n",
      "Atlanta 18092\n",
      "Vancouver 17305\n",
      "Columbus 11260\n",
      "Boulder 3199\n"
     ]
    }
   ],
   "source": [
    "businesses = pd.read_csv(r\"YelpChallengeWMetros_Clean.csv\", encoding='latin-1')\n",
    "businesses = businesses.rename(columns={'business': 'business_id'})\n",
    "\n",
    "d = dict(businesses['metroarea'].value_counts())\n",
    "\n",
    "for city, count in sorted(d.items(), key=lambda x: x[1], reverse=True):\n",
    "    if count > 1000:\n",
    "        print(city, count)"
   ]
  },
  {
   "cell_type": "code",
   "execution_count": 6,
   "metadata": {},
   "outputs": [
    {
     "data": {
      "text/html": [
       "<div>\n",
       "<style scoped>\n",
       "    .dataframe tbody tr th:only-of-type {\n",
       "        vertical-align: middle;\n",
       "    }\n",
       "\n",
       "    .dataframe tbody tr th {\n",
       "        vertical-align: top;\n",
       "    }\n",
       "\n",
       "    .dataframe thead th {\n",
       "        text-align: right;\n",
       "    }\n",
       "</style>\n",
       "<table border=\"1\" class=\"dataframe\">\n",
       "  <thead>\n",
       "    <tr style=\"text-align: right;\">\n",
       "      <th></th>\n",
       "      <th>business_id</th>\n",
       "      <th>name</th>\n",
       "      <th>categories</th>\n",
       "      <th>stars</th>\n",
       "      <th>review_count</th>\n",
       "      <th>address</th>\n",
       "      <th>city</th>\n",
       "      <th>state</th>\n",
       "      <th>longitude</th>\n",
       "      <th>latitude</th>\n",
       "      <th>metroarea</th>\n",
       "    </tr>\n",
       "  </thead>\n",
       "  <tbody>\n",
       "    <tr>\n",
       "      <td>0</td>\n",
       "      <td>N3_Gs3DnX4k9SgpwJxdEfw</td>\n",
       "      <td>Lane Wells Jewelry Repair</td>\n",
       "      <td>Shopping, Jewelry Repair, Appraisal Services, ...</td>\n",
       "      <td>5</td>\n",
       "      <td>30</td>\n",
       "      <td>7801 N Lamar Blvd, Ste A140</td>\n",
       "      <td>Austin</td>\n",
       "      <td>TX</td>\n",
       "      <td>-97.711458</td>\n",
       "      <td>30.346169</td>\n",
       "      <td>Austin</td>\n",
       "    </tr>\n",
       "    <tr>\n",
       "      <td>1</td>\n",
       "      <td>NVfOn7TdnHbaGH97CVB_Qg</td>\n",
       "      <td>McKinley Chiropractic</td>\n",
       "      <td>Chiropractors, Health &amp; Medical</td>\n",
       "      <td>5</td>\n",
       "      <td>5</td>\n",
       "      <td>5625 Eiger Rd, Ste 160</td>\n",
       "      <td>Austin</td>\n",
       "      <td>TX</td>\n",
       "      <td>-97.857409</td>\n",
       "      <td>30.244902</td>\n",
       "      <td>Austin</td>\n",
       "    </tr>\n",
       "    <tr>\n",
       "      <td>2</td>\n",
       "      <td>Xw8tuI30T-xihpzwBV-zJg</td>\n",
       "      <td>El Pollo Rey</td>\n",
       "      <td>Food Trucks, Restaurants, Specialty Food, Food...</td>\n",
       "      <td>5</td>\n",
       "      <td>11</td>\n",
       "      <td>1725 E Riverside Dr</td>\n",
       "      <td>Austin</td>\n",
       "      <td>TX</td>\n",
       "      <td>-97.730141</td>\n",
       "      <td>30.243493</td>\n",
       "      <td>Austin</td>\n",
       "    </tr>\n",
       "  </tbody>\n",
       "</table>\n",
       "</div>"
      ],
      "text/plain": [
       "              business_id                       name  \\\n",
       "0  N3_Gs3DnX4k9SgpwJxdEfw  Lane Wells Jewelry Repair   \n",
       "1  NVfOn7TdnHbaGH97CVB_Qg      McKinley Chiropractic   \n",
       "2  Xw8tuI30T-xihpzwBV-zJg               El Pollo Rey   \n",
       "\n",
       "                                          categories  stars  review_count  \\\n",
       "0  Shopping, Jewelry Repair, Appraisal Services, ...      5            30   \n",
       "1                    Chiropractors, Health & Medical      5             5   \n",
       "2  Food Trucks, Restaurants, Specialty Food, Food...      5            11   \n",
       "\n",
       "                       address    city state  longitude   latitude metroarea  \n",
       "0  7801 N Lamar Blvd, Ste A140  Austin    TX -97.711458  30.346169    Austin  \n",
       "1       5625 Eiger Rd, Ste 160  Austin    TX -97.857409  30.244902    Austin  \n",
       "2          1725 E Riverside Dr  Austin    TX -97.730141  30.243493    Austin  "
      ]
     },
     "execution_count": 6,
     "metadata": {},
     "output_type": "execute_result"
    }
   ],
   "source": [
    "businesses.head(3)"
   ]
  },
  {
   "cell_type": "markdown",
   "metadata": {},
   "source": [
    "## 1.2. Dataset for Each Metro\n",
    "\n",
    "#### Due to Yelp review dataset size, the remainder of this notebook is unused for this demonstration. If you were to continue this work beyond this demo, we have included some advice on processing the Yelp dataset from scratch in the README."
   ]
  },
  {
   "cell_type": "code",
   "execution_count": 7,
   "metadata": {},
   "outputs": [],
   "source": [
    "def create_metro_csvs():\n",
    "    # These cities contain almost all reviews in the dataset (removing outlier entries)\n",
    "    metros = [city for city, count in sorted(d.items(), key=lambda x: x[1], reverse=True)]\n",
    "\n",
    "    # Initialize empty dataframe for each city\n",
    "    metro_reviews = {metro:pd.DataFrame() for metro in metros}\n",
    "\n",
    "    # Dictionary of city IDs to set of business IDs in that city\n",
    "    metro_businesses = {metro:set(businesses[businesses['metroarea'] == metro]['business_id'].tolist()) for metro in metros}\n",
    "\n",
    "    num_total_reviews = 0\n",
    "\n",
    "    with pd.read_csv(r\"yelp_academic_dataset_reviews_Boulder.csv\", chunksize=100000) as reader:\n",
    "        for count, chunk in enumerate(reader):\n",
    "            #####\n",
    "            chunk['datetime'] = pd.to_datetime(chunk['date'])\n",
    "            chunk = chunk[chunk['datetime'] >= pd.Timestamp('2010-01-01')]\n",
    "            chunk = chunk[chunk['datetime'] < pd.Timestamp('2020-01-01')]\n",
    "            #print(chunk.head(5))\n",
    "            #####\n",
    "            num_total_reviews += len(chunk)\n",
    "            for metro in metros:\n",
    "                vals = chunk[chunk.business_id.isin(metro_businesses[metro])]\n",
    "                metro_reviews[metro] = pd.concat([metro_reviews[metro], vals], axis=0)\n",
    "            if count % 10 == 0:\n",
    "                print(\"Chunk #\", count)\n",
    "            #break\n",
    "        print(\"End: Chunk #\", count)\n",
    "\n",
    "    print(num_total_reviews)"
   ]
  },
  {
   "cell_type": "code",
   "execution_count": 8,
   "metadata": {},
   "outputs": [
    {
     "ename": "NameError",
     "evalue": "name 'num_total_reviews' is not defined",
     "output_type": "error",
     "traceback": [
      "\u001b[1;31m---------------------------------------------------------------------------\u001b[0m",
      "\u001b[1;31mNameError\u001b[0m                                 Traceback (most recent call last)",
      "\u001b[1;32m<ipython-input-8-ba4fbad53a61>\u001b[0m in \u001b[0;36m<module>\u001b[1;34m\u001b[0m\n\u001b[1;32m----> 1\u001b[1;33m \u001b[0mnum_total_reviews\u001b[0m\u001b[1;33m\u001b[0m\u001b[1;33m\u001b[0m\u001b[0m\n\u001b[0m",
      "\u001b[1;31mNameError\u001b[0m: name 'num_total_reviews' is not defined"
     ]
    }
   ],
   "source": []
  },
  {
   "cell_type": "code",
   "execution_count": 17,
   "metadata": {},
   "outputs": [],
   "source": [
    "# we're commenting out this line because we only have reviews for one metro - Boulder\n",
    "# for metro in metros:\n",
    "#     #metro_reviews[metro].to_csv(\"small_reviews/yelp_academic_dataset_reviews_\" + metro + \".csv\")\n",
    "#     metro_reviews[metro].to_csv(\"small_reviews_urbcomp/yelp_academic_dataset_reviews_\" + metro + \".csv\")"
   ]
  },
  {
   "cell_type": "markdown",
   "metadata": {},
   "source": [
    "## Checking Results"
   ]
  },
  {
   "cell_type": "code",
   "execution_count": 18,
   "metadata": {},
   "outputs": [
    {
     "name": "stdout",
     "output_type": "stream",
     "text": [
      "['Boston', 'Portland', 'Austin', 'Orlando', 'Atlanta', 'Vancouver', 'Columbus', 'Boulder']\n"
     ]
    }
   ],
   "source": [
    "print(metros)"
   ]
  },
  {
   "cell_type": "code",
   "execution_count": 19,
   "metadata": {},
   "outputs": [
    {
     "name": "stdout",
     "output_type": "stream",
     "text": [
      "[0, 0, 0, 0, 0, 0, 0, 123229]\n",
      "123229\n",
      "123229\n"
     ]
    }
   ],
   "source": [
    "lengths = [len(metro_reviews[metro]) for metro in metros]\n",
    "print(lengths)\n",
    "print(sum(lengths))\n",
    "print(num_total_reviews)"
   ]
  }
 ],
 "metadata": {
  "kernelspec": {
   "display_name": "Python 3",
   "language": "python",
   "name": "python3"
  },
  "language_info": {
   "codemirror_mode": {
    "name": "ipython",
    "version": 3
   },
   "file_extension": ".py",
   "mimetype": "text/x-python",
   "name": "python",
   "nbconvert_exporter": "python",
   "pygments_lexer": "ipython3",
   "version": "3.7.1"
  }
 },
 "nbformat": 4,
 "nbformat_minor": 5
}
