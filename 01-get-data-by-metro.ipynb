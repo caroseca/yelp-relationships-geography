{
 "cells": [
  {
   "cell_type": "markdown",
   "id": "4842f8e7-7aa5-4878-b31e-eb3fe298c203",
   "metadata": {},
   "source": [
    "# Get Data by Metro Area"
   ]
  },
  {
   "cell_type": "markdown",
   "id": "42261544-9cf9-459b-9c7a-2e7ad7929c59",
   "metadata": {},
   "source": [
    "## Load Packages"
   ]
  },
  {
   "cell_type": "code",
   "execution_count": 13,
   "id": "bb745d3b-688a-40db-9e14-b93ca2162d21",
   "metadata": {},
   "outputs": [],
   "source": [
    "# Import packages to use later\n",
    "import pandas as pd\n",
    "import nltk\n",
    "import time\n",
    "import json"
   ]
  },
  {
   "cell_type": "markdown",
   "id": "1f61d539-2af7-445e-86e0-2d82b8c2070d",
   "metadata": {},
   "source": [
    "## Investigate Cities\n",
    "### We'll have 2 files that we're working with in this file. 1 is businesses; the second is the reviews from these businesses."
   ]
  },
  {
   "cell_type": "code",
   "execution_count": 14,
   "id": "8af6ad9f-ad3c-4986-aa53-b3ab5397132e",
   "metadata": {},
   "outputs": [
    {
     "name": "stdout",
     "output_type": "stream",
     "text": [
      "Boston 36019\n",
      "Portland 28301\n",
      "Austin 24487\n",
      "Orlando 21912\n",
      "Atlanta 18092\n",
      "Vancouver 17305\n",
      "Columbus 11260\n",
      "Boulder 3199\n"
     ]
    }
   ],
   "source": [
    "businesses = pd.read_csv(r\"C:\\Users\\caraca\\Downloads\\YelpChallengeWMetros_Clean.csv\", encoding='latin-1')\n",
    "businesses = businesses.rename(columns={'business': 'business_id'})\n",
    "\n",
    "d = dict(businesses['metroarea'].value_counts())\n",
    "\n",
    "for city, count in sorted(d.items(), key=lambda x: x[1], reverse=True):\n",
    "    if count > 1000:\n",
    "        print(city, count)"
   ]
  },
  {
   "cell_type": "code",
   "execution_count": 15,
   "id": "9d92d38f-67b4-4641-ba15-4677e99a837f",
   "metadata": {},
   "outputs": [
    {
     "data": {
      "text/plain": "              business_id                       name  \\\n0  N3_Gs3DnX4k9SgpwJxdEfw  Lane Wells Jewelry Repair   \n1  NVfOn7TdnHbaGH97CVB_Qg      McKinley Chiropractic   \n2  Xw8tuI30T-xihpzwBV-zJg               El Pollo Rey   \n\n                                          categories  stars  review_count  \\\n0  Shopping, Jewelry Repair, Appraisal Services, ...      5            30   \n1                    Chiropractors, Health & Medical      5             5   \n2  Food Trucks, Restaurants, Specialty Food, Food...      5            11   \n\n                       address    city state  longitude   latitude metroarea  \n0  7801 N Lamar Blvd, Ste A140  Austin    TX -97.711458  30.346169    Austin  \n1       5625 Eiger Rd, Ste 160  Austin    TX -97.857409  30.244902    Austin  \n2          1725 E Riverside Dr  Austin    TX -97.730141  30.243493    Austin  ",
      "text/html": "<div>\n<style scoped>\n    .dataframe tbody tr th:only-of-type {\n        vertical-align: middle;\n    }\n\n    .dataframe tbody tr th {\n        vertical-align: top;\n    }\n\n    .dataframe thead th {\n        text-align: right;\n    }\n</style>\n<table border=\"1\" class=\"dataframe\">\n  <thead>\n    <tr style=\"text-align: right;\">\n      <th></th>\n      <th>business_id</th>\n      <th>name</th>\n      <th>categories</th>\n      <th>stars</th>\n      <th>review_count</th>\n      <th>address</th>\n      <th>city</th>\n      <th>state</th>\n      <th>longitude</th>\n      <th>latitude</th>\n      <th>metroarea</th>\n    </tr>\n  </thead>\n  <tbody>\n    <tr>\n      <th>0</th>\n      <td>N3_Gs3DnX4k9SgpwJxdEfw</td>\n      <td>Lane Wells Jewelry Repair</td>\n      <td>Shopping, Jewelry Repair, Appraisal Services, ...</td>\n      <td>5</td>\n      <td>30</td>\n      <td>7801 N Lamar Blvd, Ste A140</td>\n      <td>Austin</td>\n      <td>TX</td>\n      <td>-97.711458</td>\n      <td>30.346169</td>\n      <td>Austin</td>\n    </tr>\n    <tr>\n      <th>1</th>\n      <td>NVfOn7TdnHbaGH97CVB_Qg</td>\n      <td>McKinley Chiropractic</td>\n      <td>Chiropractors, Health &amp; Medical</td>\n      <td>5</td>\n      <td>5</td>\n      <td>5625 Eiger Rd, Ste 160</td>\n      <td>Austin</td>\n      <td>TX</td>\n      <td>-97.857409</td>\n      <td>30.244902</td>\n      <td>Austin</td>\n    </tr>\n    <tr>\n      <th>2</th>\n      <td>Xw8tuI30T-xihpzwBV-zJg</td>\n      <td>El Pollo Rey</td>\n      <td>Food Trucks, Restaurants, Specialty Food, Food...</td>\n      <td>5</td>\n      <td>11</td>\n      <td>1725 E Riverside Dr</td>\n      <td>Austin</td>\n      <td>TX</td>\n      <td>-97.730141</td>\n      <td>30.243493</td>\n      <td>Austin</td>\n    </tr>\n  </tbody>\n</table>\n</div>"
     },
     "execution_count": 15,
     "metadata": {},
     "output_type": "execute_result"
    }
   ],
   "source": [
    "businesses.head(3)"
   ]
  },
  {
   "cell_type": "markdown",
   "id": "c73911cb-b0fc-47f2-8583-3c9e2bdf5055",
   "metadata": {},
   "source": [
    "## Dataset for Each Metro"
   ]
  },
  {
   "cell_type": "code",
   "execution_count": 16,
   "id": "e17092c1-c763-439c-bf45-a34fea665af4",
   "metadata": {},
   "outputs": [
    {
     "name": "stdout",
     "output_type": "stream",
     "text": [
      "Chunk # 0\n",
      "End: Chunk # 1\n",
      "123229\n"
     ]
    }
   ],
   "source": [
    "# These cities contain almost all reviews in the dataset (removing outlier entries)\n",
    "metros = [city for city, count in sorted(d.items(), key=lambda x: x[1], reverse=True)]\n",
    "\n",
    "# Initialize empty dataframe for each city\n",
    "metro_reviews = {metro:pd.DataFrame() for metro in metros}\n",
    "\n",
    "# Dictionary of city IDs to set of business IDs in that city\n",
    "metro_businesses = {metro:set(businesses[businesses['metroarea'] == metro]['business_id'].tolist()) for metro in metros}\n",
    "\n",
    "num_total_reviews = 0\n",
    "\n",
    "with pd.read_csv(r\"C:/Users/caraca/Downloads/yelp_academic_dataset_reviews_Boulder.csv\", chunksize=100000) as reader:\n",
    "    for count, chunk in enumerate(reader):\n",
    "        #####\n",
    "        chunk['datetime'] = pd.to_datetime(chunk['date'])\n",
    "        chunk = chunk[chunk['datetime'] >= pd.Timestamp('2010-01-01')]\n",
    "        chunk = chunk[chunk['datetime'] < pd.Timestamp('2020-01-01')]\n",
    "        #print(chunk.head(5))\n",
    "        #####\n",
    "        num_total_reviews += len(chunk)\n",
    "        for metro in metros:\n",
    "            vals = chunk[chunk.business_id.isin(metro_businesses[metro])]\n",
    "            metro_reviews[metro] = pd.concat([metro_reviews[metro], vals], axis=0)\n",
    "        if count % 10 == 0:\n",
    "            print(\"Chunk #\", count)\n",
    "        #break\n",
    "    print(\"End: Chunk #\", count)\n",
    "\n",
    "print(num_total_reviews)\n",
    "    \n"
   ]
  },
  {
   "cell_type": "code",
   "execution_count": 17,
   "outputs": [],
   "source": [
    "# we're commenting out this line because we only have reviews for one metro - Boulder\n",
    "# for metro in metros:\n",
    "#     #metro_reviews[metro].to_csv(\"small_reviews/yelp_academic_dataset_reviews_\" + metro + \".csv\")\n",
    "#     metro_reviews[metro].to_csv(\"small_reviews_urbcomp/yelp_academic_dataset_reviews_\" + metro + \".csv\")"
   ],
   "metadata": {
    "collapsed": false
   }
  },
  {
   "cell_type": "markdown",
   "id": "a8f88cdb-6cb0-46ac-8be6-c6ea9f03f9b3",
   "metadata": {},
   "source": [
    "## Checking Results"
   ]
  },
  {
   "cell_type": "code",
   "execution_count": 18,
   "id": "818ea7f4-a16b-4bb9-b128-fa4d08124bf6",
   "metadata": {},
   "outputs": [
    {
     "name": "stdout",
     "output_type": "stream",
     "text": [
      "['Boston', 'Portland', 'Austin', 'Orlando', 'Atlanta', 'Vancouver', 'Columbus', 'Boulder']\n"
     ]
    }
   ],
   "source": [
    "print(metros)"
   ]
  },
  {
   "cell_type": "code",
   "execution_count": 19,
   "id": "dd257f05-f72f-4e77-8afe-a10417e80fdf",
   "metadata": {},
   "outputs": [
    {
     "name": "stdout",
     "output_type": "stream",
     "text": [
      "[0, 0, 0, 0, 0, 0, 0, 123229]\n",
      "123229\n",
      "123229\n"
     ]
    }
   ],
   "source": [
    "lengths = [len(metro_reviews[metro]) for metro in metros]\n",
    "print(lengths)\n",
    "print(sum(lengths))\n",
    "print(num_total_reviews)"
   ]
  },
  {
   "cell_type": "code",
   "execution_count": 19,
   "id": "5bba5577-3171-4b5a-a6c9-0583626d2415",
   "metadata": {},
   "outputs": [],
   "source": []
  }
 ],
 "metadata": {
  "kernelspec": {
   "display_name": "Python 3",
   "language": "python",
   "name": "python3"
  },
  "language_info": {
   "codemirror_mode": {
    "name": "ipython",
    "version": 3
   },
   "file_extension": ".py",
   "mimetype": "text/x-python",
   "name": "python",
   "nbconvert_exporter": "python",
   "pygments_lexer": "ipython3",
   "version": "3.8.8"
  }
 },
 "nbformat": 4,
 "nbformat_minor": 5
}
