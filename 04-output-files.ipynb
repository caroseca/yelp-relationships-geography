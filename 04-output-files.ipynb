{
 "cells": [
  {
   "cell_type": "markdown",
   "metadata": {},
   "source": [
    "## 4.0. Load Packages"
   ]
  },
  {
   "cell_type": "code",
   "execution_count": 1,
   "metadata": {},
   "outputs": [],
   "source": [
    "import pandas as pd\n",
    "import matplotlib.pyplot as plt\n",
    "import json\n",
    "import numpy as np"
   ]
  },
  {
   "cell_type": "markdown",
   "metadata": {},
   "source": [
    "## 4.1. Load Business Category Data"
   ]
  },
  {
   "cell_type": "code",
   "execution_count": 2,
   "metadata": {
    "tags": []
   },
   "outputs": [
    {
     "name": "stdout",
     "output_type": "stream",
     "text": [
      "['Active Life', 'Arts & Entertainment', 'Automotive', 'Beauty & Spas', 'Bicycles', 'Education', 'Event Planning & Services', 'Financial Services', 'Food', 'Health & Medical', 'Home Services', 'Hotels & Travel', 'Local Flavor', 'Local Services', 'Mass Media', 'Nightlife', 'Pets', 'Professional Services', 'Public Services & Government', 'Religious Organizations', 'Restaurants', 'Shopping']\n",
      "['active', 'arts', 'auto', 'beautysvc', 'bicycles', 'education', 'eventservices', 'financialservices', 'food', 'health', 'homeservices', 'hotelstravel', 'localflavor', 'localservices', 'massmedia', 'nightlife', 'pets', 'professional', 'publicservicesgovt', 'religiousorgs', 'restaurants', 'shopping']\n"
     ]
    }
   ],
   "source": [
    "# Get top-level business categories\n",
    "with open(\"categories.json\") as json_file:\n",
    "    categories = json.load(json_file)\n",
    "\n",
    "# Dictionary of category keys to the full strings that appear in the dataset\n",
    "category_dict = {category[\"alias\"]:category[\"title\"] for category in categories}\n",
    "category_dict_reverse = {category[\"title\"]:category[\"alias\"] for category in categories}\n",
    "\n",
    "# Categories that we are interested in\n",
    "#categories_of_interest = ['active', 'arts', 'beautysvc', 'food', 'hotelstravel', 'nightlife', 'restaurants', 'shopping']\n",
    "categories_of_interest_raw = [category[\"alias\"] for category in categories if category[\"parents\"] == []]\n",
    "categories_of_interest = [category_dict[cat] for cat in categories_of_interest_raw]\n",
    "\n",
    "print(categories_of_interest)\n",
    "print(categories_of_interest_raw)"
   ]
  },
  {
   "cell_type": "markdown",
   "metadata": {
    "tags": []
   },
   "source": [
    "## 4.2. Business Data"
   ]
  },
  {
   "cell_type": "markdown",
   "metadata": {
    "tags": []
   },
   "source": [
    "### Load Dataset"
   ]
  },
  {
   "cell_type": "code",
   "execution_count": 3,
   "metadata": {
    "tags": []
   },
   "outputs": [],
   "source": [
    "businesses = pd.read_csv(\"YelpChallengeWMetros_Clean.csv\", encoding='latin-1')\n",
    "# businesses.head(3)"
   ]
  },
  {
   "cell_type": "markdown",
   "metadata": {
    "tags": []
   },
   "source": [
    "### Process Categories"
   ]
  },
  {
   "cell_type": "code",
   "execution_count": 4,
   "metadata": {
    "tags": []
   },
   "outputs": [
    {
     "data": {
      "text/html": [
       "<div>\n",
       "<style scoped>\n",
       "    .dataframe tbody tr th:only-of-type {\n",
       "        vertical-align: middle;\n",
       "    }\n",
       "\n",
       "    .dataframe tbody tr th {\n",
       "        vertical-align: top;\n",
       "    }\n",
       "\n",
       "    .dataframe thead th {\n",
       "        text-align: right;\n",
       "    }\n",
       "</style>\n",
       "<table border=\"1\" class=\"dataframe\">\n",
       "  <thead>\n",
       "    <tr style=\"text-align: right;\">\n",
       "      <th></th>\n",
       "      <th>business</th>\n",
       "      <th>name</th>\n",
       "      <th>categories</th>\n",
       "      <th>stars</th>\n",
       "      <th>review_count</th>\n",
       "      <th>address</th>\n",
       "      <th>city</th>\n",
       "      <th>state</th>\n",
       "      <th>longitude</th>\n",
       "      <th>latitude</th>\n",
       "      <th>...</th>\n",
       "      <th>is_localflavor</th>\n",
       "      <th>is_localservices</th>\n",
       "      <th>is_massmedia</th>\n",
       "      <th>is_nightlife</th>\n",
       "      <th>is_pets</th>\n",
       "      <th>is_professional</th>\n",
       "      <th>is_publicservicesgovt</th>\n",
       "      <th>is_religiousorgs</th>\n",
       "      <th>is_restaurants</th>\n",
       "      <th>is_shopping</th>\n",
       "    </tr>\n",
       "  </thead>\n",
       "  <tbody>\n",
       "    <tr>\n",
       "      <th>0</th>\n",
       "      <td>N3_Gs3DnX4k9SgpwJxdEfw</td>\n",
       "      <td>Lane Wells Jewelry Repair</td>\n",
       "      <td>Shopping, Jewelry Repair, Appraisal Services, ...</td>\n",
       "      <td>5</td>\n",
       "      <td>30</td>\n",
       "      <td>7801 N Lamar Blvd, Ste A140</td>\n",
       "      <td>Austin</td>\n",
       "      <td>TX</td>\n",
       "      <td>-97.711458</td>\n",
       "      <td>30.346169</td>\n",
       "      <td>...</td>\n",
       "      <td>False</td>\n",
       "      <td>True</td>\n",
       "      <td>False</td>\n",
       "      <td>False</td>\n",
       "      <td>False</td>\n",
       "      <td>False</td>\n",
       "      <td>False</td>\n",
       "      <td>False</td>\n",
       "      <td>False</td>\n",
       "      <td>True</td>\n",
       "    </tr>\n",
       "    <tr>\n",
       "      <th>1</th>\n",
       "      <td>NVfOn7TdnHbaGH97CVB_Qg</td>\n",
       "      <td>McKinley Chiropractic</td>\n",
       "      <td>Chiropractors, Health &amp; Medical</td>\n",
       "      <td>5</td>\n",
       "      <td>5</td>\n",
       "      <td>5625 Eiger Rd, Ste 160</td>\n",
       "      <td>Austin</td>\n",
       "      <td>TX</td>\n",
       "      <td>-97.857409</td>\n",
       "      <td>30.244902</td>\n",
       "      <td>...</td>\n",
       "      <td>False</td>\n",
       "      <td>False</td>\n",
       "      <td>False</td>\n",
       "      <td>False</td>\n",
       "      <td>False</td>\n",
       "      <td>False</td>\n",
       "      <td>False</td>\n",
       "      <td>False</td>\n",
       "      <td>False</td>\n",
       "      <td>False</td>\n",
       "    </tr>\n",
       "    <tr>\n",
       "      <th>2</th>\n",
       "      <td>Xw8tuI30T-xihpzwBV-zJg</td>\n",
       "      <td>El Pollo Rey</td>\n",
       "      <td>Food Trucks, Restaurants, Specialty Food, Food...</td>\n",
       "      <td>5</td>\n",
       "      <td>11</td>\n",
       "      <td>1725 E Riverside Dr</td>\n",
       "      <td>Austin</td>\n",
       "      <td>TX</td>\n",
       "      <td>-97.730141</td>\n",
       "      <td>30.243493</td>\n",
       "      <td>...</td>\n",
       "      <td>False</td>\n",
       "      <td>False</td>\n",
       "      <td>False</td>\n",
       "      <td>False</td>\n",
       "      <td>False</td>\n",
       "      <td>False</td>\n",
       "      <td>False</td>\n",
       "      <td>False</td>\n",
       "      <td>True</td>\n",
       "      <td>False</td>\n",
       "    </tr>\n",
       "  </tbody>\n",
       "</table>\n",
       "<p>3 rows × 33 columns</p>\n",
       "</div>"
      ],
      "text/plain": [
       "                 business                       name  \\\n",
       "0  N3_Gs3DnX4k9SgpwJxdEfw  Lane Wells Jewelry Repair   \n",
       "1  NVfOn7TdnHbaGH97CVB_Qg      McKinley Chiropractic   \n",
       "2  Xw8tuI30T-xihpzwBV-zJg               El Pollo Rey   \n",
       "\n",
       "                                          categories  stars  review_count  \\\n",
       "0  Shopping, Jewelry Repair, Appraisal Services, ...      5            30   \n",
       "1                    Chiropractors, Health & Medical      5             5   \n",
       "2  Food Trucks, Restaurants, Specialty Food, Food...      5            11   \n",
       "\n",
       "                       address    city state  longitude   latitude  ...  \\\n",
       "0  7801 N Lamar Blvd, Ste A140  Austin    TX -97.711458  30.346169  ...   \n",
       "1       5625 Eiger Rd, Ste 160  Austin    TX -97.857409  30.244902  ...   \n",
       "2          1725 E Riverside Dr  Austin    TX -97.730141  30.243493  ...   \n",
       "\n",
       "  is_localflavor  is_localservices  is_massmedia  is_nightlife  is_pets  \\\n",
       "0          False              True         False         False    False   \n",
       "1          False             False         False         False    False   \n",
       "2          False             False         False         False    False   \n",
       "\n",
       "   is_professional  is_publicservicesgovt  is_religiousorgs  is_restaurants  \\\n",
       "0            False                  False             False           False   \n",
       "1            False                  False             False           False   \n",
       "2            False                  False             False            True   \n",
       "\n",
       "   is_shopping  \n",
       "0         True  \n",
       "1        False  \n",
       "2        False  \n",
       "\n",
       "[3 rows x 33 columns]"
      ]
     },
     "execution_count": 4,
     "metadata": {},
     "output_type": "execute_result"
    }
   ],
   "source": [
    "# Create indicator columns for each business category (a business may belong to multiple categories)\n",
    "# such as: is_restaurants or is_shopping\n",
    "businesses_categories = businesses.copy()\n",
    "\n",
    "for category_str in categories_of_interest:\n",
    "    colname = \"is_\" + category_dict_reverse[category_str]\n",
    "    businesses_categories[colname] = businesses_categories[\"categories\"].str.contains(category_str).fillna(False)\n",
    "businesses_categories.head(3)"
   ]
  },
  {
   "cell_type": "markdown",
   "metadata": {
    "tags": []
   },
   "source": [
    "## 4.3. Counts Data (all metro areas combined) and num_businesses"
   ]
  },
  {
   "cell_type": "markdown",
   "metadata": {
    "tags": []
   },
   "source": [
    "### counts_df"
   ]
  },
  {
   "cell_type": "code",
   "execution_count": 5,
   "metadata": {
    "tags": []
   },
   "outputs": [],
   "source": [
    "#Takes the previously calculated metros_counts_final_v2.csv files and concatenates them into 1 file for analysis below\n",
    "metros = ['Boston', 'Portland', 'Austin', 'Orlando', 'Atlanta', 'Vancouver', 'Columbus', 'Boulder']\n",
    "\n",
    "counts_df = pd.DataFrame()\n",
    "\n",
    "\n",
    "for metro in metros:\n",
    "\n",
    "    suffix = \"_v2.csv\"\n",
    "        \n",
    "    counts_df_metro = pd.read_csv(\"output_urbcomp/\" + metro + \"_counts_final\" + suffix)\n",
    "    counts_df_metro[\"metroarea\"] = metro\n",
    "    counts_df = pd.concat([counts_df,counts_df_metro])\n",
    "    \n",
    "counts_df.to_csv(\"final_output_urbcomp/all_counts_final_v2.csv\", index=False)"
   ]
  },
  {
   "cell_type": "markdown",
   "metadata": {},
   "source": [
    "#### num_businesses"
   ]
  },
  {
   "cell_type": "code",
   "execution_count": 6,
   "metadata": {},
   "outputs": [
    {
     "data": {
      "text/html": [
       "<div>\n",
       "<style scoped>\n",
       "    .dataframe tbody tr th:only-of-type {\n",
       "        vertical-align: middle;\n",
       "    }\n",
       "\n",
       "    .dataframe tbody tr th {\n",
       "        vertical-align: top;\n",
       "    }\n",
       "\n",
       "    .dataframe thead th {\n",
       "        text-align: right;\n",
       "    }\n",
       "</style>\n",
       "<table border=\"1\" class=\"dataframe\">\n",
       "  <thead>\n",
       "    <tr style=\"text-align: right;\">\n",
       "      <th></th>\n",
       "      <th>category</th>\n",
       "      <th>num_businesses</th>\n",
       "      <th>aunt</th>\n",
       "      <th>bff</th>\n",
       "      <th>boo</th>\n",
       "      <th>boss</th>\n",
       "      <th>boyfriend</th>\n",
       "      <th>brother</th>\n",
       "      <th>child</th>\n",
       "      <th>classmate</th>\n",
       "      <th>...</th>\n",
       "      <th>sister</th>\n",
       "      <th>son</th>\n",
       "      <th>spouse</th>\n",
       "      <th>teacher</th>\n",
       "      <th>uncle</th>\n",
       "      <th>wife</th>\n",
       "      <th>family</th>\n",
       "      <th>romantic</th>\n",
       "      <th>friendship</th>\n",
       "      <th>professional</th>\n",
       "    </tr>\n",
       "  </thead>\n",
       "  <tbody>\n",
       "    <tr>\n",
       "      <th>0</th>\n",
       "      <td>active</td>\n",
       "      <td>8726</td>\n",
       "      <td>69</td>\n",
       "      <td>25</td>\n",
       "      <td>10</td>\n",
       "      <td>63</td>\n",
       "      <td>1178</td>\n",
       "      <td>372</td>\n",
       "      <td>1906</td>\n",
       "      <td>38</td>\n",
       "      <td>...</td>\n",
       "      <td>688</td>\n",
       "      <td>1972</td>\n",
       "      <td>37</td>\n",
       "      <td>94</td>\n",
       "      <td>47</td>\n",
       "      <td>1739</td>\n",
       "      <td>5299</td>\n",
       "      <td>1963</td>\n",
       "      <td>2803</td>\n",
       "      <td>454</td>\n",
       "    </tr>\n",
       "    <tr>\n",
       "      <th>1</th>\n",
       "      <td>arts</td>\n",
       "      <td>4228</td>\n",
       "      <td>57</td>\n",
       "      <td>32</td>\n",
       "      <td>18</td>\n",
       "      <td>49</td>\n",
       "      <td>899</td>\n",
       "      <td>286</td>\n",
       "      <td>809</td>\n",
       "      <td>22</td>\n",
       "      <td>...</td>\n",
       "      <td>546</td>\n",
       "      <td>839</td>\n",
       "      <td>29</td>\n",
       "      <td>30</td>\n",
       "      <td>28</td>\n",
       "      <td>1082</td>\n",
       "      <td>2741</td>\n",
       "      <td>1400</td>\n",
       "      <td>1865</td>\n",
       "      <td>252</td>\n",
       "    </tr>\n",
       "    <tr>\n",
       "      <th>2</th>\n",
       "      <td>beautysvc</td>\n",
       "      <td>16154</td>\n",
       "      <td>269</td>\n",
       "      <td>108</td>\n",
       "      <td>29</td>\n",
       "      <td>159</td>\n",
       "      <td>2330</td>\n",
       "      <td>437</td>\n",
       "      <td>1078</td>\n",
       "      <td>19</td>\n",
       "      <td>...</td>\n",
       "      <td>2649</td>\n",
       "      <td>1856</td>\n",
       "      <td>68</td>\n",
       "      <td>17</td>\n",
       "      <td>28</td>\n",
       "      <td>2388</td>\n",
       "      <td>10033</td>\n",
       "      <td>3668</td>\n",
       "      <td>6561</td>\n",
       "      <td>981</td>\n",
       "    </tr>\n",
       "  </tbody>\n",
       "</table>\n",
       "<p>3 rows × 44 columns</p>\n",
       "</div>"
      ],
      "text/plain": [
       "    category  num_businesses  aunt  bff  boo  boss  boyfriend  brother  child  \\\n",
       "0     active            8726    69   25   10    63       1178      372   1906   \n",
       "1       arts            4228    57   32   18    49        899      286    809   \n",
       "2  beautysvc           16154   269  108   29   159       2330      437   1078   \n",
       "\n",
       "   classmate  ...  sister   son  spouse  teacher  uncle  wife  family  \\\n",
       "0         38  ...     688  1972      37       94     47  1739    5299   \n",
       "1         22  ...     546   839      29       30     28  1082    2741   \n",
       "2         19  ...    2649  1856      68       17     28  2388   10033   \n",
       "\n",
       "   romantic  friendship  professional  \n",
       "0      1963        2803           454  \n",
       "1      1400        1865           252  \n",
       "2      3668        6561           981  \n",
       "\n",
       "[3 rows x 44 columns]"
      ]
     },
     "execution_count": 6,
     "metadata": {},
     "output_type": "execute_result"
    }
   ],
   "source": [
    "#Outputs a dataframe with 1 metro per row and a count of number of businesses and times a word (column) shows up in business reviews in that metro\n",
    "\n",
    "categories_of_interest_small = ['active', 'arts', 'beautysvc', 'food', 'hotelstravel', 'nightlife', 'restaurants', 'shopping']\n",
    "counts_df_mod_noprofs = counts_df.copy()\n",
    "for col in [\"is_\"+col for col in categories_of_interest_small if col != \"restaurants\"]:\n",
    "    counts_df_mod_noprofs[col] = np.logical_and(counts_df_mod_noprofs[col] == True, counts_df_mod_noprofs[\"is_restaurants\"] == False)\n",
    "cols = [\"is_\"+col for col in categories_of_interest_small]\n",
    "\n",
    "df_rows = []\n",
    "# categories_of_interest_small = ['active', 'arts', 'beautysvc', 'food', 'hotelstravel', 'nightlife', 'restaurants', 'shopping']\n",
    "\n",
    "cols = [counts_df.columns[0]] + list(counts_df.columns[3:45])\n",
    "\n",
    "for category in categories_of_interest_small:\n",
    "    df_row = [category]\n",
    "    q = \"is_\" + category\n",
    "    counts_category = counts_df_mod_noprofs.query(q)\n",
    "    num_bus_in_cat = len(counts_category)\n",
    "    counts_df_temp = counts_category[cols[1:]]\n",
    "    df_row.append(num_bus_in_cat)\n",
    "    df_row.extend(np.count_nonzero(counts_df_temp, axis=0))\n",
    "    df_rows.append(df_row)\n",
    "    \n",
    "num_businesses_df = pd.DataFrame(df_rows,columns = [\"category\", \"num_businesses\"] + cols[1:])\n",
    "    \n",
    "num_businesses_df.to_csv(\"final_output_urbcomp/num_businesses.csv\", index=False)\n",
    "num_businesses_df.head(3)"
   ]
  },
  {
   "cell_type": "markdown",
   "metadata": {},
   "source": [
    "## 4.4. counts_df_norm and table"
   ]
  },
  {
   "cell_type": "markdown",
   "metadata": {},
   "source": [
    "#### Initial Data Prep"
   ]
  },
  {
   "cell_type": "code",
   "execution_count": 7,
   "metadata": {
    "tags": []
   },
   "outputs": [
    {
     "data": {
      "text/html": [
       "<div>\n",
       "<style scoped>\n",
       "    .dataframe tbody tr th:only-of-type {\n",
       "        vertical-align: middle;\n",
       "    }\n",
       "\n",
       "    .dataframe tbody tr th {\n",
       "        vertical-align: top;\n",
       "    }\n",
       "\n",
       "    .dataframe thead th {\n",
       "        text-align: right;\n",
       "    }\n",
       "</style>\n",
       "<table border=\"1\" class=\"dataframe\">\n",
       "  <thead>\n",
       "    <tr style=\"text-align: right;\">\n",
       "      <th></th>\n",
       "      <th>business_id</th>\n",
       "      <th>num_reviews</th>\n",
       "      <th>num_relationship_words</th>\n",
       "      <th>aunt</th>\n",
       "      <th>bff</th>\n",
       "      <th>boo</th>\n",
       "      <th>boss</th>\n",
       "      <th>boyfriend</th>\n",
       "      <th>brother</th>\n",
       "      <th>child</th>\n",
       "      <th>...</th>\n",
       "      <th>is_localflavor</th>\n",
       "      <th>is_localservices</th>\n",
       "      <th>is_massmedia</th>\n",
       "      <th>is_nightlife</th>\n",
       "      <th>is_pets</th>\n",
       "      <th>is_professional</th>\n",
       "      <th>is_publicservicesgovt</th>\n",
       "      <th>is_religiousorgs</th>\n",
       "      <th>is_restaurants</th>\n",
       "      <th>is_shopping</th>\n",
       "    </tr>\n",
       "  </thead>\n",
       "  <tbody>\n",
       "    <tr>\n",
       "      <th>0</th>\n",
       "      <td>buF9druCkbuXLX526sGELQ</td>\n",
       "      <td>84</td>\n",
       "      <td>250.000000</td>\n",
       "      <td>0.0</td>\n",
       "      <td>0.0</td>\n",
       "      <td>0.0</td>\n",
       "      <td>0.0</td>\n",
       "      <td>23.809524</td>\n",
       "      <td>0.00000</td>\n",
       "      <td>0.000000</td>\n",
       "      <td>...</td>\n",
       "      <td>False</td>\n",
       "      <td>False</td>\n",
       "      <td>False</td>\n",
       "      <td>True</td>\n",
       "      <td>False</td>\n",
       "      <td>False</td>\n",
       "      <td>False</td>\n",
       "      <td>False</td>\n",
       "      <td>True</td>\n",
       "      <td>False</td>\n",
       "    </tr>\n",
       "    <tr>\n",
       "      <th>1</th>\n",
       "      <td>RA4V8pr014UyUbDvI-LW2A</td>\n",
       "      <td>60</td>\n",
       "      <td>66.666667</td>\n",
       "      <td>0.0</td>\n",
       "      <td>0.0</td>\n",
       "      <td>0.0</td>\n",
       "      <td>0.0</td>\n",
       "      <td>0.000000</td>\n",
       "      <td>0.00000</td>\n",
       "      <td>33.333333</td>\n",
       "      <td>...</td>\n",
       "      <td>False</td>\n",
       "      <td>False</td>\n",
       "      <td>False</td>\n",
       "      <td>False</td>\n",
       "      <td>False</td>\n",
       "      <td>False</td>\n",
       "      <td>False</td>\n",
       "      <td>False</td>\n",
       "      <td>False</td>\n",
       "      <td>True</td>\n",
       "    </tr>\n",
       "    <tr>\n",
       "      <th>2</th>\n",
       "      <td>xGXzsc-hzam-VArK6eTvtw</td>\n",
       "      <td>324</td>\n",
       "      <td>225.308642</td>\n",
       "      <td>0.0</td>\n",
       "      <td>0.0</td>\n",
       "      <td>0.0</td>\n",
       "      <td>0.0</td>\n",
       "      <td>24.691358</td>\n",
       "      <td>3.08642</td>\n",
       "      <td>3.086420</td>\n",
       "      <td>...</td>\n",
       "      <td>False</td>\n",
       "      <td>False</td>\n",
       "      <td>False</td>\n",
       "      <td>True</td>\n",
       "      <td>False</td>\n",
       "      <td>False</td>\n",
       "      <td>False</td>\n",
       "      <td>False</td>\n",
       "      <td>True</td>\n",
       "      <td>False</td>\n",
       "    </tr>\n",
       "  </tbody>\n",
       "</table>\n",
       "<p>3 rows × 77 columns</p>\n",
       "</div>"
      ],
      "text/plain": [
       "              business_id  num_reviews  num_relationship_words  aunt  bff  \\\n",
       "0  buF9druCkbuXLX526sGELQ           84              250.000000   0.0  0.0   \n",
       "1  RA4V8pr014UyUbDvI-LW2A           60               66.666667   0.0  0.0   \n",
       "2  xGXzsc-hzam-VArK6eTvtw          324              225.308642   0.0  0.0   \n",
       "\n",
       "   boo  boss  boyfriend  brother      child  ...  is_localflavor  \\\n",
       "0  0.0   0.0  23.809524  0.00000   0.000000  ...           False   \n",
       "1  0.0   0.0   0.000000  0.00000  33.333333  ...           False   \n",
       "2  0.0   0.0  24.691358  3.08642   3.086420  ...           False   \n",
       "\n",
       "   is_localservices  is_massmedia  is_nightlife  is_pets  is_professional  \\\n",
       "0             False         False          True    False            False   \n",
       "1             False         False         False    False            False   \n",
       "2             False         False          True    False            False   \n",
       "\n",
       "   is_publicservicesgovt  is_religiousorgs  is_restaurants  is_shopping  \n",
       "0                  False             False            True        False  \n",
       "1                  False             False           False         True  \n",
       "2                  False             False            True        False  \n",
       "\n",
       "[3 rows x 77 columns]"
      ]
     },
     "execution_count": 7,
     "metadata": {},
     "output_type": "execute_result"
    }
   ],
   "source": [
    "#Takes the previously defined metro_counts_norm_final_v2.csv files and appends them all together\n",
    "\n",
    "metros = ['Boston', 'Portland', 'Austin', 'Orlando', 'Atlanta', 'Vancouver', 'Columbus', 'Boulder']\n",
    "\n",
    "counts_df_norm = pd.DataFrame()\n",
    "\n",
    "for metro in metros:\n",
    "    suffix = \"_v2.csv\"\n",
    "        \n",
    "    counts_df_norm_metro = pd.read_csv(\"output_urbcomp/\" + metro + \"_counts_norm_final\" + suffix)\n",
    "    counts_df_norm_metro[\"metroarea\"] = metro\n",
    "    counts_df_norm = pd.concat([counts_df_norm,counts_df_norm_metro])\n",
    "    \n",
    "counts_df_norm.head(3)"
   ]
  },
  {
   "cell_type": "markdown",
   "metadata": {},
   "source": [
    "#### Table"
   ]
  },
  {
   "cell_type": "code",
   "execution_count": 8,
   "metadata": {},
   "outputs": [],
   "source": [
    "metros = ['Boston', 'Portland', 'Austin', 'Orlando', 'Atlanta', 'Vancouver', 'Columbus', 'Boulder']\n",
    "metros = sorted(metros)\n",
    "cols = list(counts_df_norm.columns[3:41])"
   ]
  },
  {
   "cell_type": "code",
   "execution_count": 9,
   "metadata": {},
   "outputs": [
    {
     "data": {
      "text/html": [
       "<div>\n",
       "<style scoped>\n",
       "    .dataframe tbody tr th:only-of-type {\n",
       "        vertical-align: middle;\n",
       "    }\n",
       "\n",
       "    .dataframe tbody tr th {\n",
       "        vertical-align: top;\n",
       "    }\n",
       "\n",
       "    .dataframe thead th {\n",
       "        text-align: right;\n",
       "    }\n",
       "</style>\n",
       "<table border=\"1\" class=\"dataframe\">\n",
       "  <thead>\n",
       "    <tr style=\"text-align: right;\">\n",
       "      <th></th>\n",
       "      <th>Word</th>\n",
       "      <th>Total</th>\n",
       "      <th>Atlanta</th>\n",
       "      <th>Austin</th>\n",
       "      <th>Boston</th>\n",
       "      <th>Boulder</th>\n",
       "      <th>Columbus</th>\n",
       "      <th>Orlando</th>\n",
       "      <th>Portland</th>\n",
       "      <th>Vancouver</th>\n",
       "    </tr>\n",
       "  </thead>\n",
       "  <tbody>\n",
       "    <tr>\n",
       "      <th>0</th>\n",
       "      <td>friend</td>\n",
       "      <td>33.804432</td>\n",
       "      <td>38.170363</td>\n",
       "      <td>29.798229</td>\n",
       "      <td>36.803044</td>\n",
       "      <td>27.865674</td>\n",
       "      <td>31.683689</td>\n",
       "      <td>25.935353</td>\n",
       "      <td>29.254275</td>\n",
       "      <td>50.024824</td>\n",
       "    </tr>\n",
       "    <tr>\n",
       "      <th>1</th>\n",
       "      <td>husband</td>\n",
       "      <td>25.995269</td>\n",
       "      <td>23.441352</td>\n",
       "      <td>27.714613</td>\n",
       "      <td>23.072557</td>\n",
       "      <td>26.335683</td>\n",
       "      <td>33.492668</td>\n",
       "      <td>33.658416</td>\n",
       "      <td>26.555384</td>\n",
       "      <td>17.086610</td>\n",
       "    </tr>\n",
       "    <tr>\n",
       "      <th>2</th>\n",
       "      <td>wife</td>\n",
       "      <td>17.656021</td>\n",
       "      <td>14.339346</td>\n",
       "      <td>17.078982</td>\n",
       "      <td>16.194896</td>\n",
       "      <td>18.335786</td>\n",
       "      <td>25.496619</td>\n",
       "      <td>24.312638</td>\n",
       "      <td>17.524192</td>\n",
       "      <td>12.630865</td>\n",
       "    </tr>\n",
       "  </tbody>\n",
       "</table>\n",
       "</div>"
      ],
      "text/plain": [
       "      Word      Total    Atlanta     Austin     Boston    Boulder   Columbus  \\\n",
       "0   friend  33.804432  38.170363  29.798229  36.803044  27.865674  31.683689   \n",
       "1  husband  25.995269  23.441352  27.714613  23.072557  26.335683  33.492668   \n",
       "2     wife  17.656021  14.339346  17.078982  16.194896  18.335786  25.496619   \n",
       "\n",
       "     Orlando   Portland  Vancouver  \n",
       "0  25.935353  29.254275  50.024824  \n",
       "1  33.658416  26.555384  17.086610  \n",
       "2  24.312638  17.524192  12.630865  "
      ]
     },
     "execution_count": 9,
     "metadata": {},
     "output_type": "execute_result"
    }
   ],
   "source": [
    "#Outputs a full table of normalized counts of relationship words per metro and overall, to a text document\n",
    "\n",
    "df = pd.DataFrame(counts_df_norm[cols].mean().sort_values(ascending=False))\n",
    "\n",
    "for metro in metros:\n",
    "    counts_df_norm_metro = pd.read_csv(\"output_urbcomp/\" + metro + \"_counts_norm_final_v2.csv\")\n",
    "    df[metro] = pd.DataFrame(counts_df_norm_metro[cols].mean().sort_values(ascending=False))\n",
    "df = df.reset_index()\n",
    "df = df.rename(columns={\"index\": \"Word\", 0: \"Total\"})\n",
    "df.head(3)"
   ]
  },
  {
   "cell_type": "code",
   "execution_count": 10,
   "metadata": {},
   "outputs": [
    {
     "name": "stderr",
     "output_type": "stream",
     "text": [
      "C:\\Users\\Sandy\\AppData\\Local\\Temp\\ipykernel_19988\\3439965090.py:1: FutureWarning: In future versions `DataFrame.to_latex` is expected to utilise the base implementation of `Styler.to_latex` for formatting and rendering. The arguments signature may therefore change. It is recommended instead to use `DataFrame.style.to_latex` which also contains additional functionality.\n",
      "  df.to_latex(buf=\"output_urbcomp/table.txt\", float_format=\"%.2f\", index=False)\n"
     ]
    }
   ],
   "source": [
    "df.to_latex(buf=\"output_urbcomp/table.txt\", float_format=\"%.2f\", index=False)"
   ]
  },
  {
   "cell_type": "markdown",
   "metadata": {},
   "source": [
    "#### counts_df_norm file"
   ]
  },
  {
   "cell_type": "code",
   "execution_count": 11,
   "metadata": {},
   "outputs": [
    {
     "name": "stdout",
     "output_type": "stream",
     "text": [
      "is_active or is_arts or is_beautysvc or is_food or is_hotelstravel or is_nightlife or is_restaurants or is_shopping\n"
     ]
    }
   ],
   "source": [
    "categories_of_interest = ['active', 'arts', 'beautysvc', 'food', 'hotelstravel', 'nightlife', 'restaurants', 'shopping']\n",
    "#creates logic statement for the following query statement, to get those rows where the columns selected are TRUE in at least 1 of the columns\n",
    "q = \" or \".join([\"is_\"+cat for cat in categories_of_interest])\n",
    "print(q)"
   ]
  },
  {
   "cell_type": "code",
   "execution_count": 12,
   "metadata": {
    "tags": []
   },
   "outputs": [],
   "source": [
    "#If a business is registered as is_shopping=True and is_restaurants=True, this sets is_shopping=False\n",
    "#Basically makes it so a restaurant is not able to be counted as another category\n",
    "\n",
    "final_table = counts_df_norm.query(q).copy()\n",
    "\n",
    "for col in [\"is_\"+col for col in categories_of_interest if col != \"restaurants\"]:\n",
    "    final_table[col] = np.logical_and(final_table[col] == True, final_table[\"is_restaurants\"] == False)"
   ]
  },
  {
   "cell_type": "code",
   "execution_count": 13,
   "metadata": {},
   "outputs": [],
   "source": [
    "final_table.to_csv(\"final_output_urbcomp/all_counts_norm_final_v2.csv\", index=False)"
   ]
  },
  {
   "cell_type": "markdown",
   "metadata": {},
   "source": [
    "#### counts_df_norm_formaps file"
   ]
  },
  {
   "cell_type": "code",
   "execution_count": 16,
   "metadata": {},
   "outputs": [],
   "source": [
    "#Takes just the columns from final_table that are used for mapping and outputs them into a separate dataset\n",
    "cols_of_interest = ['business_id', 'num_reviews', 'num_relationship_words',\n",
    "                    'family', 'romantic', 'friendship', 'professional',\n",
    "                    'name', 'categories', 'stars', 'review_count',\n",
    "                    'address', 'city', 'state', 'longitude', 'latitude', 'metroarea']\n",
    "\n",
    "cols_of_interest.extend([\"is_\"+cat for cat in categories_of_interest])"
   ]
  },
  {
   "cell_type": "code",
   "execution_count": 17,
   "metadata": {},
   "outputs": [],
   "source": [
    "counts_df_norm_fewcols = final_table[cols_of_interest]\n",
    "counts_df_norm_fewcols.to_csv(\"final_output_urbcomp/all_counts_norm_fewcols_formaps.csv\", index=False)"
   ]
  },
  {
   "cell_type": "code",
   "execution_count": null,
   "id": "c0ab9652",
   "metadata": {},
   "outputs": [],
   "source": []
  }
 ],
 "metadata": {
  "kernelspec": {
   "display_name": "Python 3",
   "language": "python",
   "name": "python3"
  },
  "language_info": {
   "codemirror_mode": {
    "name": "ipython",
    "version": 3
   },
   "file_extension": ".py",
   "mimetype": "text/x-python",
   "name": "python",
   "nbconvert_exporter": "python",
   "pygments_lexer": "ipython3",
   "version": "3.10.6"
  }
 },
 "nbformat": 4,
 "nbformat_minor": 5
}
